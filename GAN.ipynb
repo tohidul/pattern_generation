{
 "nbformat": 4,
 "nbformat_minor": 0,
 "metadata": {
  "colab": {
   "provenance": []
  },
  "kernelspec": {
   "name": "python3",
   "display_name": "Python 3"
  },
  "language_info": {
   "name": "python"
  },
  "accelerator": "GPU",
  "gpuClass": "standard"
 },
 "cells": [
  {
   "cell_type": "code",
   "execution_count": 1,
   "metadata": {
    "id": "1m25-ddThSoF"
   },
   "outputs": [],
   "source": [
    "from tensorflow import keras\n",
    "import random\n",
    "import numpy as np\n",
    "import tensorflow as tf"
   ]
  },
  {
   "cell_type": "code",
   "source": [
    "(x_train, y_train), (x_test, y_test) = tf.keras.datasets.fashion_mnist.load_data()"
   ],
   "metadata": {
    "colab": {
     "base_uri": "https://localhost:8080/"
    },
    "id": "UPFKFFqPhWXc",
    "outputId": "0c28fd5b-989d-40f4-a7ca-038b54e2604e"
   },
   "execution_count": 2,
   "outputs": []
  },
  {
   "cell_type": "code",
   "source": [
    "all_data = np.concatenate((x_train, x_test))"
   ],
   "metadata": {
    "id": "HlAPx7MmhhFA"
   },
   "execution_count": 3,
   "outputs": []
  },
  {
   "cell_type": "code",
   "source": [
    "max_value = float(all_data.max())\n",
    "al_data_normalized = all_data.astype(np.float32) / max_value\n",
    "x_train_normalized, x_valid_normalized = al_data_normalized[:-1000], al_data_normalized[-1000:]"
   ],
   "metadata": {
    "id": "rFOpUxynhi_5"
   },
   "execution_count": 4,
   "outputs": []
  },
  {
   "cell_type": "code",
   "source": [
    "all_y = np.concatenate((y_train, y_test))"
   ],
   "metadata": {
    "id": "_XWd1HtQhk1y"
   },
   "execution_count": 5,
   "outputs": []
  },
  {
   "cell_type": "code",
   "source": [
    "y_train, y_valid = all_y[:-1000], all_y[-1000:]"
   ],
   "metadata": {
    "id": "tXWGJtEuhl_i"
   },
   "execution_count": 6,
   "outputs": []
  },
  {
   "cell_type": "code",
   "source": [
    "x_train = x_train/255.0\n",
    "x_test = x_test/255.0"
   ],
   "metadata": {
    "id": "vliy0ABUhnWk"
   },
   "execution_count": 7,
   "outputs": []
  },
  {
   "cell_type": "code",
   "source": [
    "coding_size = 30"
   ],
   "metadata": {
    "id": "_19Bdvw-hwSn"
   },
   "execution_count": 8,
   "outputs": []
  },
  {
   "cell_type": "code",
   "source": [
    "discriminator = keras.models.Sequential([\n",
    "    keras.layers.Flatten(input_shape=[28,28]),\n",
    "    keras.layers.Dense(150, activation=\"selu\"),\n",
    "    keras.layers.Dense(100, activation=\"selu\"),\n",
    "    keras.layers.Dense(1, activation=\"sigmoid\")\n",
    "])"
   ],
   "metadata": {
    "id": "937_mnvHhowE"
   },
   "execution_count": 9,
   "outputs": []
  },
  {
   "cell_type": "code",
   "source": [
    "generator = keras.models.Sequential([\n",
    "    keras.layers.Dense(100, activation=\"selu\", input_shape=[coding_size]),\n",
    "    keras.layers.Dense(150, activation=\"selu\"),\n",
    "    keras.layers.Dense(28*28, activation=\"sigmoid\"),\n",
    "    keras.layers.Reshape([28,28])\n",
    "])"
   ],
   "metadata": {
    "id": "hHK_mDLlhp6U"
   },
   "execution_count": 10,
   "outputs": []
  },
  {
   "cell_type": "code",
   "source": [
    "gan = keras.models.Sequential([generator,discriminator])"
   ],
   "metadata": {
    "id": "dIRjV-IDiN3X"
   },
   "execution_count": 11,
   "outputs": []
  },
  {
   "cell_type": "code",
   "source": [
    "discriminator.compile(loss=\"binary_crossentropy\",optimizer=\"rmsprop\")"
   ],
   "metadata": {
    "id": "_E1LQpKhiW5j"
   },
   "execution_count": 12,
   "outputs": []
  },
  {
   "cell_type": "code",
   "source": [
    "discriminator.trainable=False"
   ],
   "metadata": {
    "id": "KgbK2yaGigG4"
   },
   "execution_count": 13,
   "outputs": []
  },
  {
   "cell_type": "code",
   "source": [
    "gan.compile(loss=\"binary_crossentropy\",optimizer=\"rmsprop\")"
   ],
   "metadata": {
    "id": "Ho4bIGmsii4g"
   },
   "execution_count": 14,
   "outputs": []
  },
  {
   "cell_type": "code",
   "source": [
    "batch_size = 32\n",
    "dataset = tf.data.Dataset.from_tensor_slices(x_train).shuffle(1000)\n",
    "dataset = dataset.batch(batch_size, drop_remainder=True).prefetch(1)"
   ],
   "metadata": {
    "id": "iRWcHKvSim9S"
   },
   "execution_count": 15,
   "outputs": []
  },
  {
   "cell_type": "code",
   "source": [
    "def train_gan(gan, dataset, batch_size, codings_size, n_epochs=50):\n",
    "  generator, discriminator = gan.layers\n",
    "  for epoch in range(n_epochs):\n",
    "    for X_batch in dataset:\n",
    "      # phase 1 - training the discriminator\n",
    "      X_batch = tf.cast(X_batch, tf.float32)\n",
    "      noise = tf.random.normal(shape=[batch_size, codings_size])\n",
    "      generated_images = generator(noise)\n",
    "      X_fake_and_real = tf.concat([generated_images, X_batch], axis=0)\n",
    "      y1 = tf.constant([[0.]] * batch_size + [[1.]] * batch_size)\n",
    "      discriminator.trainable = True\n",
    "      discriminator.train_on_batch(X_fake_and_real, y1)\n",
    "      # phase 2 - training the generator\n",
    "      noise = tf.random.normal(shape=[batch_size, codings_size])\n",
    "      y2 = tf.constant([[1.]] * batch_size)\n",
    "      discriminator.trainable = False\n",
    "      gan.train_on_batch(noise, y2)"
   ],
   "metadata": {
    "id": "a6uiew87i8rm"
   },
   "execution_count": 16,
   "outputs": []
  },
  {
   "cell_type": "code",
   "source": [
    "train_gan(gan, dataset, batch_size, coding_size)"
   ],
   "metadata": {
    "id": "jujk_UVCjW6L",
    "pycharm": {
     "is_executing": true
    }
   },
   "execution_count": null,
   "outputs": []
  },
  {
   "cell_type": "code",
   "source": [],
   "metadata": {
    "id": "GENMjfBpjYRE"
   },
   "execution_count": null,
   "outputs": []
  }
 ]
}