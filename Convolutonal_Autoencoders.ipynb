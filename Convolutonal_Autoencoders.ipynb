{
  "nbformat": 4,
  "nbformat_minor": 0,
  "metadata": {
    "colab": {
      "provenance": []
    },
    "kernelspec": {
      "name": "python3",
      "display_name": "Python 3"
    },
    "language_info": {
      "name": "python"
    },
    "accelerator": "GPU",
    "gpuClass": "standard"
  },
  "cells": [
    {
      "cell_type": "code",
      "execution_count": null,
      "metadata": {
        "id": "sArJC045axik"
      },
      "outputs": [],
      "source": [
        "from tensorflow import keras\n",
        "import random\n",
        "import numpy as np\n",
        "import tensorflow as tf"
      ]
    },
    {
      "cell_type": "code",
      "source": [
        "(x_train, y_train), (x_test, y_test) = tf.keras.datasets.fashion_mnist.load_data()"
      ],
      "metadata": {
        "colab": {
          "base_uri": "https://localhost:8080/"
        },
        "id": "42YYPsewbTKa",
        "outputId": "4fbeafc0-5ae6-40d0-af71-7564b3a1a080"
      },
      "execution_count": null,
      "outputs": [
        {
          "output_type": "stream",
          "name": "stdout",
          "text": [
            "Downloading data from https://storage.googleapis.com/tensorflow/tf-keras-datasets/train-labels-idx1-ubyte.gz\n",
            "29515/29515 [==============================] - 0s 0us/step\n",
            "Downloading data from https://storage.googleapis.com/tensorflow/tf-keras-datasets/train-images-idx3-ubyte.gz\n",
            "26421880/26421880 [==============================] - 2s 0us/step\n",
            "Downloading data from https://storage.googleapis.com/tensorflow/tf-keras-datasets/t10k-labels-idx1-ubyte.gz\n",
            "5148/5148 [==============================] - 0s 0us/step\n",
            "Downloading data from https://storage.googleapis.com/tensorflow/tf-keras-datasets/t10k-images-idx3-ubyte.gz\n",
            "4422102/4422102 [==============================] - 0s 0us/step\n"
          ]
        }
      ]
    },
    {
      "cell_type": "code",
      "source": [
        "all_data = np.concatenate((x_train, x_test))"
      ],
      "metadata": {
        "id": "j1FsR9YZbVj6"
      },
      "execution_count": null,
      "outputs": []
    },
    {
      "cell_type": "code",
      "source": [
        "max_value = float(all_data.max())\n",
        "al_data_normalized = all_data.astype(np.float32) / max_value\n",
        "x_train_normalized, x_valid_normalized = al_data_normalized[:-1000], al_data_normalized[-1000:]"
      ],
      "metadata": {
        "id": "OFmxRT04bWzz"
      },
      "execution_count": null,
      "outputs": []
    },
    {
      "cell_type": "code",
      "source": [
        "all_y = np.concatenate((y_train, y_test))"
      ],
      "metadata": {
        "id": "DGrhAYgjbZjk"
      },
      "execution_count": null,
      "outputs": []
    },
    {
      "cell_type": "code",
      "source": [
        "y_train, y_valid = all_y[:-1000], all_y[-1000:]"
      ],
      "metadata": {
        "id": "DUzHhUa4baqF"
      },
      "execution_count": null,
      "outputs": []
    },
    {
      "cell_type": "code",
      "source": [
        "x_train = x_train/255.0\n",
        "x_test = x_test/255.0"
      ],
      "metadata": {
        "id": "bsilV8Fobb6e"
      },
      "execution_count": null,
      "outputs": []
    },
    {
      "cell_type": "code",
      "source": [
        "conv_encoder = keras.models.Sequential([\n",
        "    keras.layers.Reshape([28,28,1], input_shape=[28,28]),\n",
        "    keras.layers.Conv2D(16, kernel_size=3,padding=\"same\", activation=\"relu\"),\n",
        "    keras.layers.MaxPool2D(pool_size=2),\n",
        "    keras.layers.Conv2D(32, kernel_size=3, padding=\"same\", activation=\"relu\"),\n",
        "    keras.layers.MaxPool2D(pool_size=2),\n",
        "    keras.layers.Conv2D(64, kernel_size=3, padding=\"same\", activation=\"relu\"),\n",
        "    keras.layers.MaxPool2D(pool_size=2)\n",
        "\n",
        "])"
      ],
      "metadata": {
        "id": "ImXt7kfGbdCN"
      },
      "execution_count": null,
      "outputs": []
    },
    {
      "cell_type": "code",
      "source": [
        "conv_decoder = keras.models.Sequential([\n",
        "    keras.layers.Conv2DTranspose(32, kernel_size=3, strides=2, padding=\"valid\", activation=\"selu\", input_shape=[3,3,64]),\n",
        "    keras.layers.Conv2DTranspose(16, kernel_size=3, strides=2, padding=\"same\", activation=\"selu\"),\n",
        "    keras.layers.Conv2DTranspose(1, kernel_size=3, strides=2, padding=\"same\", activation=\"sigmoid\"),\n",
        "    keras.layers.Reshape([28,28])\n",
        "\n",
        "])"
      ],
      "metadata": {
        "id": "Whctj56FcTK7"
      },
      "execution_count": null,
      "outputs": []
    },
    {
      "cell_type": "code",
      "source": [
        "conv_ae = keras.models.Sequential([conv_encoder,conv_decoder])"
      ],
      "metadata": {
        "id": "QEpcD1bzcmvq"
      },
      "execution_count": null,
      "outputs": []
    },
    {
      "cell_type": "code",
      "source": [
        "conv_ae.compile(loss=\"binary_crossentropy\", optimizer=keras.optimizers.SGD(lr=1.5))"
      ],
      "metadata": {
        "colab": {
          "base_uri": "https://localhost:8080/"
        },
        "id": "2FZc_wW4dGWr",
        "outputId": "629e3281-9564-4a58-80d5-96d3a4208366"
      },
      "execution_count": null,
      "outputs": [
        {
          "output_type": "stream",
          "name": "stderr",
          "text": [
            "/usr/local/lib/python3.8/dist-packages/keras/optimizers/optimizer_v2/gradient_descent.py:108: UserWarning: The `lr` argument is deprecated, use `learning_rate` instead.\n",
            "  super(SGD, self).__init__(name, **kwargs)\n"
          ]
        }
      ]
    },
    {
      "cell_type": "code",
      "source": [
        "history = conv_ae.fit(x_train_normalized, x_train_normalized, epochs=10, validation_data=[x_valid_normalized, x_valid_normalized])"
      ],
      "metadata": {
        "colab": {
          "base_uri": "https://localhost:8080/"
        },
        "id": "FKQ-DEgSdKfW",
        "outputId": "9931c835-6c5d-4024-de0a-bb9e73a94cee"
      },
      "execution_count": null,
      "outputs": [
        {
          "output_type": "stream",
          "name": "stdout",
          "text": [
            "Epoch 1/10\n",
            "2157/2157 [==============================] - 17s 4ms/step - loss: 0.3148 - val_loss: 0.2894\n",
            "Epoch 2/10\n",
            "2157/2157 [==============================] - 9s 4ms/step - loss: 0.2780 - val_loss: 0.2798\n",
            "Epoch 3/10\n",
            "2157/2157 [==============================] - 9s 4ms/step - loss: 0.2726 - val_loss: 0.2777\n",
            "Epoch 4/10\n",
            "2157/2157 [==============================] - 9s 4ms/step - loss: 0.2696 - val_loss: 0.2765\n",
            "Epoch 5/10\n",
            "2157/2157 [==============================] - 9s 4ms/step - loss: 0.2678 - val_loss: 0.2741\n",
            "Epoch 6/10\n",
            "2157/2157 [==============================] - 9s 4ms/step - loss: 0.2665 - val_loss: 0.2714\n",
            "Epoch 7/10\n",
            "2157/2157 [==============================] - 9s 4ms/step - loss: 0.2654 - val_loss: 0.2715\n",
            "Epoch 8/10\n",
            "2157/2157 [==============================] - 9s 4ms/step - loss: 0.2646 - val_loss: 0.2696\n",
            "Epoch 9/10\n",
            "2157/2157 [==============================] - 9s 4ms/step - loss: 0.2639 - val_loss: 0.2708\n",
            "Epoch 10/10\n",
            "2157/2157 [==============================] - 9s 4ms/step - loss: 0.2633 - val_loss: 0.2723\n"
          ]
        }
      ]
    },
    {
      "cell_type": "code",
      "source": [
        "import matplotlib.pyplot as plt"
      ],
      "metadata": {
        "id": "fgSL4H0wdOn2"
      },
      "execution_count": null,
      "outputs": []
    },
    {
      "cell_type": "code",
      "source": [
        "def plot_image(image):\n",
        "    plt.imshow(image, cmap=\"binary\")\n",
        "    plt.axis(\"off\")"
      ],
      "metadata": {
        "id": "80cjquR1fCLp"
      },
      "execution_count": null,
      "outputs": []
    },
    {
      "cell_type": "code",
      "source": [
        "def show_reconstructions(model, n_images=10):\n",
        "    reconstruction = model.predict(x_test[:n_images])\n",
        "    fig = plt.figure(figsize=(n_images*2,4))\n",
        "    for image_index in range(n_images):\n",
        "        plt.subplot(2,n_images,1+image_index)\n",
        "        plot_image(x_test[image_index])\n",
        "        plt.subplot(2,n_images, 1+n_images+image_index)\n",
        "        plot_image(reconstruction[image_index])"
      ],
      "metadata": {
        "id": "9hOloYdZfDNh"
      },
      "execution_count": 20,
      "outputs": []
    },
    {
      "cell_type": "code",
      "source": [
        "show_reconstructions(conv_ae)"
      ],
      "metadata": {
        "colab": {
          "base_uri": "https://localhost:8080/",
          "height": 261
        },
        "id": "LXmO8erHfEqx",
        "outputId": "6f640a69-a27d-45c6-ced8-8a5240e2c323"
      },
      "execution_count": 21,
      "outputs": [
        {
          "output_type": "stream",
          "name": "stdout",
          "text": [
            "1/1 [==============================] - 0s 18ms/step\n"
          ]
        },
        {
          "output_type": "display_data",
          "data": {
            "text/plain": [
              "<Figure size 1440x288 with 20 Axes>"
            ],
            "image/png": "[encoded data removed]"
          },
          "metadata": {
            "needs_background": "light"
          }
        }
      ]
    },
    {
      "cell_type": "code",
      "source": [],
      "metadata": {
        "id": "qIa8ZiWkfF86"
      },
      "execution_count": null,
      "outputs": []
    }
  ]
}